{
 "metadata": {
  "language_info": {
   "codemirror_mode": {
    "name": "ipython",
    "version": 3
   },
   "file_extension": ".py",
   "mimetype": "text/x-python",
   "name": "python",
   "nbconvert_exporter": "python",
   "pygments_lexer": "ipython3",
   "version": "3.9.1"
  },
  "orig_nbformat": 2,
  "kernelspec": {
   "name": "python391jvsc74a57bd07812ea015bdcee6f23a998adcdd2ef97c151c0c241b7b7070987d9313e41299d",
   "display_name": "Python 3.9.1 64-bit ('3.9')"
  },
  "metadata": {
   "interpreter": {
    "hash": "7812ea015bdcee6f23a998adcdd2ef97c151c0c241b7b7070987d9313e41299d"
   }
  }
 },
 "nbformat": 4,
 "nbformat_minor": 2,
 "cells": [
  {
   "cell_type": "code",
   "execution_count": 23,
   "metadata": {},
   "outputs": [],
   "source": [
    "import numpy as np"
   ]
  },
  {
   "cell_type": "code",
   "execution_count": 28,
   "metadata": {},
   "outputs": [],
   "source": [
    "alpha_q = np.random.choice(range(1, 20), 12, replace=True)"
   ]
  },
  {
   "cell_type": "code",
   "execution_count": 29,
   "metadata": {},
   "outputs": [],
   "source": [
    "alpha_a = np.random.choice(range(1, 10), 12, replace=True)"
   ]
  },
  {
   "cell_type": "code",
   "execution_count": 30,
   "metadata": {},
   "outputs": [],
   "source": [
    "beta = np.random.choice(np.arange(1, 3, 0.1), 12, replace=True)"
   ]
  },
  {
   "cell_type": "code",
   "execution_count": 31,
   "metadata": {},
   "outputs": [
    {
     "output_type": "execute_result",
     "data": {
      "text/plain": [
       "[(11, 8, 2.1),\n",
       " (17, 2, 2.4),\n",
       " (7, 8, 2.3),\n",
       " (16, 3, 1.8),\n",
       " (3, 2, 2.0),\n",
       " (4, 5, 2.0),\n",
       " (5, 4, 1.1),\n",
       " (19, 6, 2.5),\n",
       " (6, 4, 1.5),\n",
       " (8, 1, 2.5),\n",
       " (5, 3, 1.8),\n",
       " (6, 1, 2.8)]"
      ]
     },
     "metadata": {},
     "execution_count": 31
    }
   ],
   "source": [
    "list(zip(alpha_q, alpha_a, [round(x, 2) for x in beta]))"
   ]
  },
  {
   "cell_type": "code",
   "execution_count": 18,
   "metadata": {},
   "outputs": [],
   "source": [
    "final = \"\"\"\n",
    "[(11, 8, 2.1),\n",
    " (17, 2, 2.4),\n",
    " (7, 8, 2.3),\n",
    " (16, 3, 1.8),\n",
    " (3, 2, 2.0),\n",
    " (4, 5, 2.0),\n",
    " (5, 4, 1.1),\n",
    " (19, 6, 2.5),\n",
    " (6, 4, 1.5),\n",
    " (8, 1, 2.5),\n",
    " (5, 3, 1.8),\n",
    " (6, 1, 2.8)]\n",
    " \"\"\""
   ]
  },
  {
   "cell_type": "code",
   "execution_count": null,
   "metadata": {},
   "outputs": [],
   "source": [
    "let alpha_Q = 5;\n",
    "let alpha_A = 6;\n",
    "let beta_A = 1;\n",
    "\n",
    "let path_a = './data/input/param_ans_synth_5_6_1.csv'\n",
    "let path_q = './data/input/param_que_synth_5_6_1.csv'\n",
    "\n",
    "let iterations = 100;"
   ]
  }
 ]
}