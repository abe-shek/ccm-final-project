{
 "cells": [
  {
   "cell_type": "code",
   "execution_count": 1,
   "metadata": {},
   "outputs": [],
   "source": [
    "import pandas as pandas\n",
    "import json"
   ]
  },
  {
   "cell_type": "code",
   "execution_count": 6,
   "metadata": {},
   "outputs": [],
   "source": [
    "in_path = \"final_data/outputs/param_ans_synth_9_3_19.txt\"\n",
    "out_path = \"final_data/outputs/parsed/param_ans_synth_9_3_10.json\""
   ]
  },
  {
   "cell_type": "code",
   "execution_count": 7,
   "metadata": {},
   "outputs": [],
   "source": [
    "f = open(in_path, \"r\")"
   ]
  },
  {
   "cell_type": "code",
   "execution_count": 8,
   "metadata": {},
   "outputs": [],
   "source": [
    "data = f.read()\n",
    "\n",
    "data = data.replace(\"alpha_a\", '\"alpha_a\"').replace(\"answererType\", '\"answererType\"').replace(\"questionerType\", '\"questionerType\"').replace(\"beta\", '\"beta\"').replace(\"likelihood\", '\"likelihood\"').replace(\"alpha_q\", '\"alpha_q\"').replace(\"'pragmatic'\", '\"pragmatic\"').replace(\"'explicit'\", '\"explicit\"')"
   ]
  },
  {
   "cell_type": "code",
   "execution_count": 9,
   "metadata": {
    "tags": []
   },
   "outputs": [],
   "source": [
    "new = open(out_path, \"w\")\n",
    "\n",
    "new.write('{\"data\" : [')\n",
    "for each_line in data.split(\"\\n\"):\n",
    "    if \"undefined\" in each_line:\n",
    "        continue\n",
    "    if \"}\" in each_line:\n",
    "        each_line = \"},\"\n",
    "    new.write(each_line + \"\\n\")\n",
    "\n",
    "new.write(']}')\n",
    "new.close()"
   ]
  },
  {
   "cell_type": "code",
   "execution_count": null,
   "metadata": {},
   "outputs": [],
   "source": []
  }
 ],
 "metadata": {
  "kernelspec": {
   "display_name": "Python 3",
   "language": "python",
   "name": "python3"
  },
  "language_info": {
   "codemirror_mode": {
    "name": "ipython",
    "version": 3
   },
   "file_extension": ".py",
   "mimetype": "text/x-python",
   "name": "python",
   "nbconvert_exporter": "python",
   "pygments_lexer": "ipython3",
   "version": "3.7.3"
  }
 },
 "nbformat": 4,
 "nbformat_minor": 2
}
