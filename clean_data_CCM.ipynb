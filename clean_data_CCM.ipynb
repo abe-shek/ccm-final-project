{
 "cells": [
  {
   "cell_type": "code",
   "execution_count": 1,
   "metadata": {},
   "outputs": [],
   "source": [
    "import pandas as pandas\n",
    "import json"
   ]
  },
  {
   "cell_type": "code",
   "execution_count": 1,
   "metadata": {},
   "outputs": [],
   "source": [
    "in_path = \"final_data/outputs/param_que_synth_6_4_15.txt\"\n",
    "out_path = \"final_data/outputs/parsed/param_que_synth_6_4_15.json\""
   ]
  },
  {
   "cell_type": "code",
   "execution_count": 2,
   "metadata": {},
   "outputs": [],
   "source": [
    "f = open(in_path, \"r\")"
   ]
  },
  {
   "cell_type": "code",
   "execution_count": 3,
   "metadata": {},
   "outputs": [],
   "source": [
    "data = f.read()\n",
    "\n",
    "data = data.replace(\"alpha_a\", '\"alpha_a\"').replace(\"answererType\", '\"answererType\"').replace(\"questionerType\", '\"questionerType\"').replace(\"beta\", '\"beta\"').replace(\"likelihood\", '\"likelihood\"').replace(\"alpha_q\", '\"alpha_q\"').replace(\"'pragmatic'\", '\"pragmatic\"').replace(\"'explicit'\", '\"explicit\"')"
   ]
  },
  {
   "cell_type": "code",
   "execution_count": 4,
   "metadata": {
    "tags": []
   },
   "outputs": [],
   "source": [
    "new = open(out_path, \"w\")\n",
    "\n",
    "new.write('{\"data\" : [')\n",
    "for each_line in data.split(\"\\n\"):\n",
    "    if \"undefined\" in each_line:\n",
    "        continue\n",
    "    if \"}\" in each_line:\n",
    "        each_line = \"},\"\n",
    "    new.write(each_line + \"\\n\")\n",
    "\n",
    "new.write(']}')\n",
    "new.close()"
   ]
  },
  {
   "cell_type": "code",
   "execution_count": null,
   "metadata": {},
   "outputs": [],
   "source": []
  }
 ],
 "metadata": {
  "kernelspec": {
   "name": "python391jvsc74a57bd07812ea015bdcee6f23a998adcdd2ef97c151c0c241b7b7070987d9313e41299d",
   "display_name": "Python 3.9.1 64-bit ('3.9')"
  },
  "language_info": {
   "codemirror_mode": {
    "name": "ipython",
    "version": 3
   },
   "file_extension": ".py",
   "mimetype": "text/x-python",
   "name": "python",
   "nbconvert_exporter": "python",
   "pygments_lexer": "ipython3",
   "version": "3.9.1"
  },
  "metadata": {
   "interpreter": {
    "hash": "7812ea015bdcee6f23a998adcdd2ef97c151c0c241b7b7070987d9313e41299d"
   }
  }
 },
 "nbformat": 4,
 "nbformat_minor": 2
}