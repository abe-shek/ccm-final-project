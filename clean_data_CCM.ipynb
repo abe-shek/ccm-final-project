{
 "metadata": {
  "language_info": {
   "codemirror_mode": {
    "name": "ipython",
    "version": 3
   },
   "file_extension": ".py",
   "mimetype": "text/x-python",
   "name": "python",
   "nbconvert_exporter": "python",
   "pygments_lexer": "ipython3",
   "version": "3.8.6"
  },
  "orig_nbformat": 2,
  "kernelspec": {
   "name": "python386jvsc74a57bd00cbb398e7fa080eddefa05a938b6b2d0bd9fb13bad6d642a712d30be3d64f672",
   "display_name": "Python 3.8.6 64-bit ('3.8.6': pyenv)"
  }
 },
 "nbformat": 4,
 "nbformat_minor": 2,
 "cells": [
  {
   "cell_type": "code",
   "execution_count": 6,
   "metadata": {},
   "outputs": [],
   "source": [
    "import pandas as pandas\n",
    "import json"
   ]
  },
  {
   "cell_type": "code",
   "execution_count": 15,
   "metadata": {},
   "outputs": [],
   "source": [
    "in_path = \"final_data/outputs/param_ans_synth_4_5_20.txt\"\n",
    "out_path = \"final_data/outputs/parsed/param_ans_synth_4_5_20.json\""
   ]
  },
  {
   "cell_type": "code",
   "execution_count": 16,
   "metadata": {},
   "outputs": [],
   "source": [
    "f = open(in_path, \"r\")"
   ]
  },
  {
   "cell_type": "code",
   "execution_count": 17,
   "metadata": {},
   "outputs": [],
   "source": [
    "data = f.read()\n",
    "\n",
    "data = data.replace(\"alpha_a\", '\"alpha_a\"').replace(\"answererType\", '\"answererType\"').replace(\"questionerType\", '\"questionerType\"').replace(\"beta\", '\"beta\"').replace(\"likelihood\", '\"likelihood\"').replace(\"alpha_q\", '\"alpha_q\"').replace(\"'pragmatic'\", '\"pragmatic\"').replace(\"'explicit'\", '\"explicit\"')"
   ]
  },
  {
   "cell_type": "code",
   "execution_count": 18,
   "metadata": {
    "tags": []
   },
   "outputs": [],
   "source": [
    "new = open(out_path, \"w\")\n",
    "\n",
    "new.write('{\"data\" : [')\n",
    "for each_line in data.split(\"\\n\"):\n",
    "    if \"undefined\" in each_line:\n",
    "        continue\n",
    "    if \"}\" in each_line:\n",
    "        each_line = \"},\"\n",
    "    new.write(each_line + \"\\n\")\n",
    "\n",
    "new.write(']}')\n",
    "new.close()"
   ]
  },
  {
   "cell_type": "code",
   "execution_count": null,
   "metadata": {},
   "outputs": [],
   "source": []
  }
 ]
}